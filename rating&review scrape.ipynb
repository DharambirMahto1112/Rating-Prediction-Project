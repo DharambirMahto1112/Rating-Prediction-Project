{
 "cells": [
  {
   "cell_type": "code",
   "execution_count": 203,
   "id": "615c70ac",
   "metadata": {},
   "outputs": [],
   "source": [
    "import pandas as pd\n",
    "import selenium\n",
    "from selenium import webdriver\n",
    "from selenium.webdriver.common.keys import Keys\n",
    "from selenium.common.exceptions import NoSuchElementException,ElementClickInterceptedException\n",
    "from selenium.common.exceptions import StaleElementReferenceException\n",
    "import time\n",
    "from selenium.webdriver.support.ui import WebDriverWait\n",
    "from selenium.webdriver.common.action_chains import ActionChains\n",
    "import warnings\n",
    "warnings.filterwarnings('ignore')"
   ]
  },
  {
   "cell_type": "code",
   "execution_count": 82,
   "id": "f8eeb7e7",
   "metadata": {},
   "outputs": [],
   "source": [
    "driver = webdriver.Chrome(r\"C:\\Program Files (x86)\\chromedriver.exe\")\n",
    "driver.maximize_window()\n",
    "driver.get(\"https://www.amazon.in/\")"
   ]
  },
  {
   "cell_type": "code",
   "execution_count": 83,
   "id": "16ffe8e5",
   "metadata": {},
   "outputs": [],
   "source": [
    "p_list = ['laptops','Mobile Phones','headphones','smart watches','cameras for photography','printers','Monitors','Home Theater',\n",
    "          'routers']\n",
    "href = []\n",
    "for i in p_list:\n",
    "    srch = driver.find_element_by_xpath(\"//input[@id='twotabsearchtextbox']\")\n",
    "    srch.click()\n",
    "    srch.send_keys(i)\n",
    "    button = driver.find_element_by_xpath(\"//input[@id='nav-search-submit-button']\").click()\n",
    "    \n",
    "    page = list(range(1,11))\n",
    "    for k in page:\n",
    "        link = 'https://www.amazon.in/s?k={}&page={}&crid=UYZMX0OWZ8CV&qid=1640610958&sprefix=%2Caps%2C861&ref=sr_pg_{}'.format(i,k,k)\n",
    "        driver.get(link)\n",
    "        link2 = driver.find_elements_by_xpath(\"//h2[@class='a-size-mini a-spacing-none a-color-base s-line-clamp-2']/a\")\n",
    "        for lnk in link2:\n",
    "            href.append(lnk.get_attribute('href'))\n",
    "        \n",
    "    input_ = driver.find_element_by_xpath(\"//input[@id='twotabsearchtextbox']\")\n",
    "    input_.clear()"
   ]
  },
  {
   "cell_type": "code",
   "execution_count": 84,
   "id": "e5e4f2ec",
   "metadata": {},
   "outputs": [
    {
     "name": "stdout",
     "output_type": "stream",
     "text": [
      "1832\n"
     ]
    }
   ],
   "source": [
    "print(len(href))"
   ]
  },
  {
   "cell_type": "code",
   "execution_count": 86,
   "id": "b33b1e01",
   "metadata": {},
   "outputs": [
    {
     "name": "stdout",
     "output_type": "stream",
     "text": [
      "1503\n"
     ]
    }
   ],
   "source": [
    "review_lnk = []\n",
    "for i in href:\n",
    "    driver.get(i)\n",
    "    # auto scroll page\n",
    "    for i in range(0,4):\n",
    "        actions = ActionChains(driver)\n",
    "        for _ in range(0,5):\n",
    "            actions.send_keys(Keys.PAGE_DOWN).perform()\n",
    "            time.sleep(1)\n",
    "\n",
    "    try:\n",
    "        view_all = driver.find_elements_by_xpath(\"//*[@id='reviews-medley-footer']/div[2]/a\")\n",
    "        for k in view_all:\n",
    "            review_lnk.append(k.get_attribute('href'))\n",
    "    except NoSuchElementException:\n",
    "        pass\n",
    "    \n",
    "print(len(review_lnk))"
   ]
  },
  {
   "cell_type": "code",
   "execution_count": 87,
   "id": "cd8f751d",
   "metadata": {},
   "outputs": [],
   "source": [
    "review = []\n",
    "rating = []\n",
    "list_of_floats = []\n",
    "num = [] \n",
    "\n",
    "for re in review_lnk:\n",
    "    driver.get(re)\n",
    "    # auto scroll page\n",
    "    for i in range(0,3):\n",
    "        actions = ActionChains(driver)\n",
    "        for _ in range(0,3):\n",
    "            actions.send_keys(Keys.PAGE_DOWN).perform()\n",
    "            time.sleep(1)\n",
    "            \n",
    "    \n",
    "    rev = driver.find_elements_by_xpath(\"//div[@class='a-row a-spacing-small review-data']/span\")\n",
    "    try:\n",
    "        for i in rev:\n",
    "            review.append(i.text)\n",
    "    except NoSuchElementException:\n",
    "        review.append('?')\n",
    "    \n",
    "    rat = driver.find_elements_by_xpath(\"/html/body/div/div/div/div/div/div/div/div/div/div/div/div/div[2]/a[1]\")\n",
    "    try:\n",
    "        for i in rat:\n",
    "            rating.append(i.get_attribute('title'))\n",
    "    except NoSuchElementException:\n",
    "        rating.append('?') \n",
    "\n",
    "whole = [num.split()[0] for num in rating]\n",
    "\n",
    "for item in whole:\n",
    "    list_of_floats.append(float(item))   \n",
    "for i in list_of_floats:\n",
    "    num.append(round(i))"
   ]
  },
  {
   "cell_type": "code",
   "execution_count": 91,
   "id": "6b362bb4",
   "metadata": {},
   "outputs": [
    {
     "data": {
      "text/html": [
       "<div>\n",
       "<style scoped>\n",
       "    .dataframe tbody tr th:only-of-type {\n",
       "        vertical-align: middle;\n",
       "    }\n",
       "\n",
       "    .dataframe tbody tr th {\n",
       "        vertical-align: top;\n",
       "    }\n",
       "\n",
       "    .dataframe thead th {\n",
       "        text-align: right;\n",
       "    }\n",
       "</style>\n",
       "<table border=\"1\" class=\"dataframe\">\n",
       "  <thead>\n",
       "    <tr style=\"text-align: right;\">\n",
       "      <th></th>\n",
       "      <th>review</th>\n",
       "      <th>rating</th>\n",
       "    </tr>\n",
       "  </thead>\n",
       "  <tbody>\n",
       "    <tr>\n",
       "      <th>0</th>\n",
       "      <td>Did not meet expectations:\\nTakes significant ...</td>\n",
       "      <td>3</td>\n",
       "    </tr>\n",
       "    <tr>\n",
       "      <th>1</th>\n",
       "      <td>This laptop is great in terms of how light wei...</td>\n",
       "      <td>1</td>\n",
       "    </tr>\n",
       "    <tr>\n",
       "      <th>2</th>\n",
       "      <td>First day of using this laptop\\nIt’s damn fast...</td>\n",
       "      <td>5</td>\n",
       "    </tr>\n",
       "    <tr>\n",
       "      <th>3</th>\n",
       "      <td>Play Video\\n Pros\\n-----\\n- Very light weight\\...</td>\n",
       "      <td>2</td>\n",
       "    </tr>\n",
       "    <tr>\n",
       "      <th>4</th>\n",
       "      <td>Play Video\\n This really serves the purpose. I...</td>\n",
       "      <td>5</td>\n",
       "    </tr>\n",
       "    <tr>\n",
       "      <th>...</th>\n",
       "      <td>...</td>\n",
       "      <td>...</td>\n",
       "    </tr>\n",
       "    <tr>\n",
       "      <th>12595</th>\n",
       "      <td>Excellent and extremely light and portable rou...</td>\n",
       "      <td>1</td>\n",
       "    </tr>\n",
       "    <tr>\n",
       "      <th>12596</th>\n",
       "      <td>I'm yet to check it. I purchased this item for...</td>\n",
       "      <td>4</td>\n",
       "    </tr>\n",
       "    <tr>\n",
       "      <th>12597</th>\n",
       "      <td>Its working with most carrier locked data card...</td>\n",
       "      <td>2</td>\n",
       "    </tr>\n",
       "    <tr>\n",
       "      <th>12598</th>\n",
       "      <td>Simple and good -3G wifi router. I needed this...</td>\n",
       "      <td>5</td>\n",
       "    </tr>\n",
       "    <tr>\n",
       "      <th>12599</th>\n",
       "      <td>The information regarding configuration of the...</td>\n",
       "      <td>1</td>\n",
       "    </tr>\n",
       "  </tbody>\n",
       "</table>\n",
       "<p>12600 rows × 2 columns</p>\n",
       "</div>"
      ],
      "text/plain": [
       "                                                  review  rating\n",
       "0      Did not meet expectations:\\nTakes significant ...       3\n",
       "1      This laptop is great in terms of how light wei...       1\n",
       "2      First day of using this laptop\\nIt’s damn fast...       5\n",
       "3      Play Video\\n Pros\\n-----\\n- Very light weight\\...       2\n",
       "4      Play Video\\n This really serves the purpose. I...       5\n",
       "...                                                  ...     ...\n",
       "12595  Excellent and extremely light and portable rou...       1\n",
       "12596  I'm yet to check it. I purchased this item for...       4\n",
       "12597  Its working with most carrier locked data card...       2\n",
       "12598  Simple and good -3G wifi router. I needed this...       5\n",
       "12599  The information regarding configuration of the...       1\n",
       "\n",
       "[12600 rows x 2 columns]"
      ]
     },
     "execution_count": 91,
     "metadata": {},
     "output_type": "execute_result"
    }
   ],
   "source": [
    "amazon_products = pd.DataFrame({})\n",
    "amazon_products['review'] = review[0:12600]\n",
    "amazon_products['rating'] = num[0:12600]\n",
    "amazon_products"
   ]
  },
  {
   "cell_type": "code",
   "execution_count": 92,
   "id": "0ffa746d",
   "metadata": {},
   "outputs": [],
   "source": [
    "driver.close()"
   ]
  },
  {
   "cell_type": "code",
   "execution_count": 188,
   "id": "0e1da1b6",
   "metadata": {},
   "outputs": [],
   "source": [
    "driver = webdriver.Chrome(r\"C:\\Program Files (x86)\\chromedriver.exe\")\n",
    "driver.maximize_window()\n",
    "driver.get(\"https://www.flipkart.com/\")\n",
    "driver.find_element_by_xpath(\"//button[@class='_2KpZ6l _2doB4z']\").click()"
   ]
  },
  {
   "cell_type": "code",
   "execution_count": 174,
   "id": "3d3a0177",
   "metadata": {},
   "outputs": [],
   "source": [
    "p_list = ['laptops','Smart Phones','headphones','smart watches','cameras ','printers','Monitors','Home Theater',\n",
    "          'routers']\n",
    "href = []\n",
    "for i in p_list:\n",
    "    srch = driver.find_element_by_xpath(\"//input[@class='_3704LK']\")\n",
    "    srch.click()\n",
    "    srch.send_keys(i)\n",
    "    button = driver.find_element_by_xpath(\"//button[@class='L0Z3Pu']\").click()\n",
    "    \n",
    "    page = list(range(1,4))\n",
    "    for k in page:\n",
    "        link = 'https://www.flipkart.com/search?q={}&otracker=search&otracker1=search&marketplace=FLIPKART&as-show=on&as=off&page={}'.format(i,k,)\n",
    "        driver.get(link)\n",
    "        link2 = driver.find_elements_by_xpath(\"//*[@id='container']/div/div/div/div/div/div/div/div/a\")\n",
    "        for lnk in link2:\n",
    "            href.append(lnk.get_attribute('href'))\n",
    "        \n",
    "    input_ = driver.find_element_by_xpath(\"//input[@class='_3704LK']\")\n",
    "    input_.click()\n",
    "    input_.send_keys(Keys.CONTROL+'A'+Keys.BACKSPACE)"
   ]
  },
  {
   "cell_type": "code",
   "execution_count": 175,
   "id": "a4c8ea18",
   "metadata": {},
   "outputs": [
    {
     "name": "stdout",
     "output_type": "stream",
     "text": [
      "2091\n"
     ]
    }
   ],
   "source": [
    "print(len(href))"
   ]
  },
  {
   "cell_type": "code",
   "execution_count": 177,
   "id": "9d0826cf",
   "metadata": {},
   "outputs": [],
   "source": [
    "review_lnk = []\n",
    "for i in href:\n",
    "    driver.get(i)\n",
    "    # auto scroll page\n",
    "    for i in range(0,3):\n",
    "        actions = ActionChains(driver)\n",
    "        for _ in range(0,3):\n",
    "            actions.send_keys(Keys.PAGE_DOWN).perform()\n",
    "            time.sleep(1)\n",
    "\n",
    "    try:\n",
    "        view_all = driver.find_elements_by_xpath(\"//div[@class='col JOpGWq']/a\")\n",
    "        for k in view_all:\n",
    "            review_lnk.append(k.get_attribute('href'))\n",
    "    except NoSuchElementException:\n",
    "        pass"
   ]
  },
  {
   "cell_type": "code",
   "execution_count": 178,
   "id": "5936b143",
   "metadata": {},
   "outputs": [
    {
     "name": "stdout",
     "output_type": "stream",
     "text": [
      "1419\n"
     ]
    }
   ],
   "source": [
    "print(len(review_lnk))"
   ]
  },
  {
   "cell_type": "code",
   "execution_count": 189,
   "id": "0c54d540",
   "metadata": {},
   "outputs": [],
   "source": [
    "review2 = []\n",
    "rating2 = []\n",
    "\n",
    "for re in review_lnk:\n",
    "    driver.get(re)\n",
    "    # auto scroll page\n",
    "    for i in range(0,2):\n",
    "        actions = ActionChains(driver)\n",
    "        for _ in range(0,2):\n",
    "            actions.send_keys(Keys.PAGE_DOWN).perform()\n",
    "            time.sleep(1)\n",
    "            \n",
    "    \n",
    "    rev = driver.find_elements_by_xpath(\"//div[@class='t-ZTKy']/div/div\")\n",
    "    try:\n",
    "        for i in rev:\n",
    "            review2.append(i.text)\n",
    "    except NoSuchElementException:\n",
    "        review2.append('?')\n",
    "    \n",
    "    rat = driver.find_elements_by_xpath(\"//div[@class='_3LWZlK _1BLPMq']\")\n",
    "    try:\n",
    "        for i in rat:\n",
    "            rating2.append(i.text) \n",
    "    except NoSuchElementException:\n",
    "        rating2.append(\"?\")\n",
    "        \n",
    "    rat2 = driver.find_elements_by_xpath(\"//div[@class='_3LWZlK _1rdVr6 _1BLPMq']\")\n",
    "    try:\n",
    "        for i in rat2:\n",
    "            rating2.append(i.text)\n",
    "    except NoSuchElementException:\n",
    "        rating2.append(\"?\")"
   ]
  },
  {
   "cell_type": "code",
   "execution_count": 190,
   "id": "250d1490",
   "metadata": {},
   "outputs": [
    {
     "name": "stdout",
     "output_type": "stream",
     "text": [
      "13204\n",
      "12809\n"
     ]
    }
   ],
   "source": [
    "print(len(review2))\n",
    "print(len(rating2))"
   ]
  },
  {
   "cell_type": "code",
   "execution_count": 207,
   "id": "3e064f07",
   "metadata": {},
   "outputs": [
    {
     "data": {
      "text/html": [
       "<div>\n",
       "<style scoped>\n",
       "    .dataframe tbody tr th:only-of-type {\n",
       "        vertical-align: middle;\n",
       "    }\n",
       "\n",
       "    .dataframe tbody tr th {\n",
       "        vertical-align: top;\n",
       "    }\n",
       "\n",
       "    .dataframe thead th {\n",
       "        text-align: right;\n",
       "    }\n",
       "</style>\n",
       "<table border=\"1\" class=\"dataframe\">\n",
       "  <thead>\n",
       "    <tr style=\"text-align: right;\">\n",
       "      <th></th>\n",
       "      <th>review</th>\n",
       "      <th>rating</th>\n",
       "    </tr>\n",
       "  </thead>\n",
       "  <tbody>\n",
       "    <tr>\n",
       "      <th>0</th>\n",
       "      <td>Easily one of the most valuable &amp; wonderful ga...</td>\n",
       "      <td>5</td>\n",
       "    </tr>\n",
       "    <tr>\n",
       "      <th>1</th>\n",
       "      <td>It's a decent laptop in this price range. I wa...</td>\n",
       "      <td>5</td>\n",
       "    </tr>\n",
       "    <tr>\n",
       "      <th>2</th>\n",
       "      <td>I am writing an honest review after using this...</td>\n",
       "      <td>5</td>\n",
       "    </tr>\n",
       "    <tr>\n",
       "      <th>3</th>\n",
       "      <td>I have no negatives to say about this laptop. ...</td>\n",
       "      <td>5</td>\n",
       "    </tr>\n",
       "    <tr>\n",
       "      <th>4</th>\n",
       "      <td>SuperB Product. Highly Recommended. Best in th...</td>\n",
       "      <td>5</td>\n",
       "    </tr>\n",
       "    <tr>\n",
       "      <th>...</th>\n",
       "      <td>...</td>\n",
       "      <td>...</td>\n",
       "    </tr>\n",
       "    <tr>\n",
       "      <th>12804</th>\n",
       "      <td>Using with BSNL. Speed is good compare with mo...</td>\n",
       "      <td>5</td>\n",
       "    </tr>\n",
       "    <tr>\n",
       "      <th>12805</th>\n",
       "      <td>Well, this product is awesome but configuratio...</td>\n",
       "      <td>5</td>\n",
       "    </tr>\n",
       "    <tr>\n",
       "      <th>12806</th>\n",
       "      <td>Router is good, solve the problem and you can ...</td>\n",
       "      <td>5</td>\n",
       "    </tr>\n",
       "    <tr>\n",
       "      <th>12807</th>\n",
       "      <td>It's just been 2 days since I've started using...</td>\n",
       "      <td>4</td>\n",
       "    </tr>\n",
       "    <tr>\n",
       "      <th>12808</th>\n",
       "      <td>Sabka baap......nice product WiFi range is ver...</td>\n",
       "      <td>5</td>\n",
       "    </tr>\n",
       "  </tbody>\n",
       "</table>\n",
       "<p>12809 rows × 2 columns</p>\n",
       "</div>"
      ],
      "text/plain": [
       "                                                  review rating\n",
       "0      Easily one of the most valuable & wonderful ga...      5\n",
       "1      It's a decent laptop in this price range. I wa...      5\n",
       "2      I am writing an honest review after using this...      5\n",
       "3      I have no negatives to say about this laptop. ...      5\n",
       "4      SuperB Product. Highly Recommended. Best in th...      5\n",
       "...                                                  ...    ...\n",
       "12804  Using with BSNL. Speed is good compare with mo...      5\n",
       "12805  Well, this product is awesome but configuratio...      5\n",
       "12806  Router is good, solve the problem and you can ...      5\n",
       "12807  It's just been 2 days since I've started using...      4\n",
       "12808  Sabka baap......nice product WiFi range is ver...      5\n",
       "\n",
       "[12809 rows x 2 columns]"
      ]
     },
     "execution_count": 207,
     "metadata": {},
     "output_type": "execute_result"
    }
   ],
   "source": [
    "flipkart_product = pd.DataFrame({})\n",
    "flipkart_product['review'] = review2[0:12809]\n",
    "flipkart_product['rating'] = rating2[0:12809]\n",
    "flipkart_product"
   ]
  },
  {
   "cell_type": "code",
   "execution_count": 192,
   "id": "3e39836a",
   "metadata": {},
   "outputs": [],
   "source": [
    "driver.close()"
   ]
  },
  {
   "cell_type": "code",
   "execution_count": 208,
   "id": "43ab222e",
   "metadata": {},
   "outputs": [
    {
     "data": {
      "text/html": [
       "<div>\n",
       "<style scoped>\n",
       "    .dataframe tbody tr th:only-of-type {\n",
       "        vertical-align: middle;\n",
       "    }\n",
       "\n",
       "    .dataframe tbody tr th {\n",
       "        vertical-align: top;\n",
       "    }\n",
       "\n",
       "    .dataframe thead th {\n",
       "        text-align: right;\n",
       "    }\n",
       "</style>\n",
       "<table border=\"1\" class=\"dataframe\">\n",
       "  <thead>\n",
       "    <tr style=\"text-align: right;\">\n",
       "      <th></th>\n",
       "      <th>review</th>\n",
       "      <th>rating</th>\n",
       "    </tr>\n",
       "  </thead>\n",
       "  <tbody>\n",
       "    <tr>\n",
       "      <th>0</th>\n",
       "      <td>Did not meet expectations:\\nTakes significant ...</td>\n",
       "      <td>3</td>\n",
       "    </tr>\n",
       "    <tr>\n",
       "      <th>1</th>\n",
       "      <td>This laptop is great in terms of how light wei...</td>\n",
       "      <td>1</td>\n",
       "    </tr>\n",
       "    <tr>\n",
       "      <th>2</th>\n",
       "      <td>First day of using this laptop\\nIt’s damn fast...</td>\n",
       "      <td>5</td>\n",
       "    </tr>\n",
       "    <tr>\n",
       "      <th>3</th>\n",
       "      <td>Play Video\\n Pros\\n-----\\n- Very light weight\\...</td>\n",
       "      <td>2</td>\n",
       "    </tr>\n",
       "    <tr>\n",
       "      <th>4</th>\n",
       "      <td>Play Video\\n This really serves the purpose. I...</td>\n",
       "      <td>5</td>\n",
       "    </tr>\n",
       "    <tr>\n",
       "      <th>...</th>\n",
       "      <td>...</td>\n",
       "      <td>...</td>\n",
       "    </tr>\n",
       "    <tr>\n",
       "      <th>12804</th>\n",
       "      <td>Using with BSNL. Speed is good compare with mo...</td>\n",
       "      <td>5</td>\n",
       "    </tr>\n",
       "    <tr>\n",
       "      <th>12805</th>\n",
       "      <td>Well, this product is awesome but configuratio...</td>\n",
       "      <td>5</td>\n",
       "    </tr>\n",
       "    <tr>\n",
       "      <th>12806</th>\n",
       "      <td>Router is good, solve the problem and you can ...</td>\n",
       "      <td>5</td>\n",
       "    </tr>\n",
       "    <tr>\n",
       "      <th>12807</th>\n",
       "      <td>It's just been 2 days since I've started using...</td>\n",
       "      <td>4</td>\n",
       "    </tr>\n",
       "    <tr>\n",
       "      <th>12808</th>\n",
       "      <td>Sabka baap......nice product WiFi range is ver...</td>\n",
       "      <td>5</td>\n",
       "    </tr>\n",
       "  </tbody>\n",
       "</table>\n",
       "<p>25409 rows × 2 columns</p>\n",
       "</div>"
      ],
      "text/plain": [
       "                                                  review rating\n",
       "0      Did not meet expectations:\\nTakes significant ...      3\n",
       "1      This laptop is great in terms of how light wei...      1\n",
       "2      First day of using this laptop\\nIt’s damn fast...      5\n",
       "3      Play Video\\n Pros\\n-----\\n- Very light weight\\...      2\n",
       "4      Play Video\\n This really serves the purpose. I...      5\n",
       "...                                                  ...    ...\n",
       "12804  Using with BSNL. Speed is good compare with mo...      5\n",
       "12805  Well, this product is awesome but configuratio...      5\n",
       "12806  Router is good, solve the problem and you can ...      5\n",
       "12807  It's just been 2 days since I've started using...      4\n",
       "12808  Sabka baap......nice product WiFi range is ver...      5\n",
       "\n",
       "[25409 rows x 2 columns]"
      ]
     },
     "execution_count": 208,
     "metadata": {},
     "output_type": "execute_result"
    }
   ],
   "source": [
    "review_rating = pd.concat([amazon_products,flipkart_product], axis=0)\n",
    "review_rating"
   ]
  },
  {
   "cell_type": "code",
   "execution_count": 209,
   "id": "9b33eaa3",
   "metadata": {},
   "outputs": [],
   "source": [
    "review_rating.to_csv('review_rating.csv')"
   ]
  },
  {
   "cell_type": "code",
   "execution_count": null,
   "id": "8bda8bfb",
   "metadata": {},
   "outputs": [],
   "source": []
  }
 ],
 "metadata": {
  "kernelspec": {
   "display_name": "Python 3",
   "language": "python",
   "name": "python3"
  },
  "language_info": {
   "codemirror_mode": {
    "name": "ipython",
    "version": 3
   },
   "file_extension": ".py",
   "mimetype": "text/x-python",
   "name": "python",
   "nbconvert_exporter": "python",
   "pygments_lexer": "ipython3",
   "version": "3.8.8"
  }
 },
 "nbformat": 4,
 "nbformat_minor": 5
}
