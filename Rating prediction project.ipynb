{
 "cells": [
  {
   "cell_type": "code",
   "execution_count": 1,
   "id": "5e3fa3c1",
   "metadata": {},
   "outputs": [
    {
     "name": "stderr",
     "output_type": "stream",
     "text": [
      "[nltk_data] Error loading punkt: <urlopen error [Errno 11001]\n",
      "[nltk_data]     getaddrinfo failed>\n",
      "[nltk_data] Error loading stopwords: <urlopen error [Errno 11001]\n",
      "[nltk_data]     getaddrinfo failed>\n",
      "[nltk_data] Error loading averaged_perceptron_tagger: <urlopen error\n",
      "[nltk_data]     [Errno 11001] getaddrinfo failed>\n"
     ]
    }
   ],
   "source": [
    "# import the necessary libraries\n",
    "import pandas as pd\n",
    "import nltk\n",
    "import seaborn as sns\n",
    "import numpy as np\n",
    "import matplotlib.pyplot as plt\n",
    "nltk.download('punkt')\n",
    "nltk.download('stopwords')\n",
    "nltk.download('averaged_perceptron_tagger')\n",
    "import nltk.corpus\n",
    "from nltk.tokenize import sent_tokenize, word_tokenize\n",
    "import warnings\n",
    "warnings.filterwarnings('ignore')"
   ]
  },
  {
   "cell_type": "code",
   "execution_count": 38,
   "id": "20ef8f9b",
   "metadata": {},
   "outputs": [
    {
     "data": {
      "text/html": [
       "<div>\n",
       "<style scoped>\n",
       "    .dataframe tbody tr th:only-of-type {\n",
       "        vertical-align: middle;\n",
       "    }\n",
       "\n",
       "    .dataframe tbody tr th {\n",
       "        vertical-align: top;\n",
       "    }\n",
       "\n",
       "    .dataframe thead th {\n",
       "        text-align: right;\n",
       "    }\n",
       "</style>\n",
       "<table border=\"1\" class=\"dataframe\">\n",
       "  <thead>\n",
       "    <tr style=\"text-align: right;\">\n",
       "      <th></th>\n",
       "      <th>Unnamed: 0</th>\n",
       "      <th>review</th>\n",
       "      <th>rating</th>\n",
       "    </tr>\n",
       "  </thead>\n",
       "  <tbody>\n",
       "    <tr>\n",
       "      <th>0</th>\n",
       "      <td>0</td>\n",
       "      <td>Did not meet expectations:\\nTakes significant ...</td>\n",
       "      <td>3</td>\n",
       "    </tr>\n",
       "    <tr>\n",
       "      <th>1</th>\n",
       "      <td>1</td>\n",
       "      <td>This laptop is great in terms of how light wei...</td>\n",
       "      <td>1</td>\n",
       "    </tr>\n",
       "    <tr>\n",
       "      <th>2</th>\n",
       "      <td>2</td>\n",
       "      <td>First day of using this laptop\\nIt’s damn fast...</td>\n",
       "      <td>5</td>\n",
       "    </tr>\n",
       "    <tr>\n",
       "      <th>3</th>\n",
       "      <td>3</td>\n",
       "      <td>Play Video\\n Pros\\n-----\\n- Very light weight\\...</td>\n",
       "      <td>2</td>\n",
       "    </tr>\n",
       "    <tr>\n",
       "      <th>4</th>\n",
       "      <td>4</td>\n",
       "      <td>Play Video\\n This really serves the purpose. I...</td>\n",
       "      <td>5</td>\n",
       "    </tr>\n",
       "    <tr>\n",
       "      <th>...</th>\n",
       "      <td>...</td>\n",
       "      <td>...</td>\n",
       "      <td>...</td>\n",
       "    </tr>\n",
       "    <tr>\n",
       "      <th>25404</th>\n",
       "      <td>12804</td>\n",
       "      <td>Using with BSNL. Speed is good compare with mo...</td>\n",
       "      <td>5</td>\n",
       "    </tr>\n",
       "    <tr>\n",
       "      <th>25405</th>\n",
       "      <td>12805</td>\n",
       "      <td>Well, this product is awesome but configuratio...</td>\n",
       "      <td>5</td>\n",
       "    </tr>\n",
       "    <tr>\n",
       "      <th>25406</th>\n",
       "      <td>12806</td>\n",
       "      <td>Router is good, solve the problem and you can ...</td>\n",
       "      <td>5</td>\n",
       "    </tr>\n",
       "    <tr>\n",
       "      <th>25407</th>\n",
       "      <td>12807</td>\n",
       "      <td>It's just been 2 days since I've started using...</td>\n",
       "      <td>4</td>\n",
       "    </tr>\n",
       "    <tr>\n",
       "      <th>25408</th>\n",
       "      <td>12808</td>\n",
       "      <td>Sabka baap......nice product WiFi range is ver...</td>\n",
       "      <td>5</td>\n",
       "    </tr>\n",
       "  </tbody>\n",
       "</table>\n",
       "<p>25409 rows × 3 columns</p>\n",
       "</div>"
      ],
      "text/plain": [
       "       Unnamed: 0                                             review  rating\n",
       "0               0  Did not meet expectations:\\nTakes significant ...       3\n",
       "1               1  This laptop is great in terms of how light wei...       1\n",
       "2               2  First day of using this laptop\\nIt’s damn fast...       5\n",
       "3               3  Play Video\\n Pros\\n-----\\n- Very light weight\\...       2\n",
       "4               4  Play Video\\n This really serves the purpose. I...       5\n",
       "...           ...                                                ...     ...\n",
       "25404       12804  Using with BSNL. Speed is good compare with mo...       5\n",
       "25405       12805  Well, this product is awesome but configuratio...       5\n",
       "25406       12806  Router is good, solve the problem and you can ...       5\n",
       "25407       12807  It's just been 2 days since I've started using...       4\n",
       "25408       12808  Sabka baap......nice product WiFi range is ver...       5\n",
       "\n",
       "[25409 rows x 3 columns]"
      ]
     },
     "execution_count": 38,
     "metadata": {},
     "output_type": "execute_result"
    }
   ],
   "source": [
    "df = pd.read_csv(\"review_rating.csv\")\n",
    "df"
   ]
  },
  {
   "cell_type": "markdown",
   "id": "e50c137f",
   "metadata": {},
   "source": [
    "read the csv file"
   ]
  },
  {
   "cell_type": "code",
   "execution_count": 39,
   "id": "f15e2813",
   "metadata": {},
   "outputs": [],
   "source": [
    "df.drop('Unnamed: 0',axis = 1,inplace = True)"
   ]
  },
  {
   "cell_type": "markdown",
   "id": "bd36abb4",
   "metadata": {},
   "source": [
    "dropped the unnecessary column"
   ]
  },
  {
   "cell_type": "code",
   "execution_count": 40,
   "id": "e7779fda",
   "metadata": {},
   "outputs": [
    {
     "data": {
      "text/html": [
       "<div>\n",
       "<style scoped>\n",
       "    .dataframe tbody tr th:only-of-type {\n",
       "        vertical-align: middle;\n",
       "    }\n",
       "\n",
       "    .dataframe tbody tr th {\n",
       "        vertical-align: top;\n",
       "    }\n",
       "\n",
       "    .dataframe thead th {\n",
       "        text-align: right;\n",
       "    }\n",
       "</style>\n",
       "<table border=\"1\" class=\"dataframe\">\n",
       "  <thead>\n",
       "    <tr style=\"text-align: right;\">\n",
       "      <th></th>\n",
       "      <th>review</th>\n",
       "      <th>rating</th>\n",
       "    </tr>\n",
       "  </thead>\n",
       "  <tbody>\n",
       "    <tr>\n",
       "      <th>0</th>\n",
       "      <td>Did not meet expectations:\\nTakes significant ...</td>\n",
       "      <td>3</td>\n",
       "    </tr>\n",
       "    <tr>\n",
       "      <th>1</th>\n",
       "      <td>This laptop is great in terms of how light wei...</td>\n",
       "      <td>1</td>\n",
       "    </tr>\n",
       "    <tr>\n",
       "      <th>2</th>\n",
       "      <td>First day of using this laptop\\nIt’s damn fast...</td>\n",
       "      <td>5</td>\n",
       "    </tr>\n",
       "    <tr>\n",
       "      <th>3</th>\n",
       "      <td>Play Video\\n Pros\\n-----\\n- Very light weight\\...</td>\n",
       "      <td>2</td>\n",
       "    </tr>\n",
       "    <tr>\n",
       "      <th>4</th>\n",
       "      <td>Play Video\\n This really serves the purpose. I...</td>\n",
       "      <td>5</td>\n",
       "    </tr>\n",
       "  </tbody>\n",
       "</table>\n",
       "</div>"
      ],
      "text/plain": [
       "                                              review  rating\n",
       "0  Did not meet expectations:\\nTakes significant ...       3\n",
       "1  This laptop is great in terms of how light wei...       1\n",
       "2  First day of using this laptop\\nIt’s damn fast...       5\n",
       "3  Play Video\\n Pros\\n-----\\n- Very light weight\\...       2\n",
       "4  Play Video\\n This really serves the purpose. I...       5"
      ]
     },
     "execution_count": 40,
     "metadata": {},
     "output_type": "execute_result"
    }
   ],
   "source": [
    "df.replace('\\n','').head()"
   ]
  },
  {
   "cell_type": "markdown",
   "id": "cd2448ec",
   "metadata": {},
   "source": [
    "print the first five rows "
   ]
  },
  {
   "cell_type": "code",
   "execution_count": 41,
   "id": "20e2d3e4",
   "metadata": {},
   "outputs": [
    {
     "name": "stdout",
     "output_type": "stream",
     "text": [
      "<class 'pandas.core.frame.DataFrame'>\n",
      "RangeIndex: 25409 entries, 0 to 25408\n",
      "Data columns (total 2 columns):\n",
      " #   Column  Non-Null Count  Dtype \n",
      "---  ------  --------------  ----- \n",
      " 0   review  25308 non-null  object\n",
      " 1   rating  25409 non-null  int64 \n",
      "dtypes: int64(1), object(1)\n",
      "memory usage: 397.1+ KB\n"
     ]
    }
   ],
   "source": [
    "df.info()"
   ]
  },
  {
   "cell_type": "markdown",
   "id": "4501376e",
   "metadata": {},
   "source": [
    "checked the information of dataframe."
   ]
  },
  {
   "cell_type": "code",
   "execution_count": 42,
   "id": "6e815ee0",
   "metadata": {},
   "outputs": [
    {
     "data": {
      "text/plain": [
       "review    101\n",
       "rating      0\n",
       "dtype: int64"
      ]
     },
     "execution_count": 42,
     "metadata": {},
     "output_type": "execute_result"
    }
   ],
   "source": [
    "df.isnull().sum()"
   ]
  },
  {
   "cell_type": "markdown",
   "id": "a43167af",
   "metadata": {},
   "source": [
    "checked the null values "
   ]
  },
  {
   "cell_type": "code",
   "execution_count": 43,
   "id": "2b3be72b",
   "metadata": {},
   "outputs": [],
   "source": [
    "df = df.dropna()"
   ]
  },
  {
   "cell_type": "markdown",
   "id": "41507b60",
   "metadata": {},
   "source": [
    "dropped the null values"
   ]
  },
  {
   "cell_type": "code",
   "execution_count": 44,
   "id": "08f98f02",
   "metadata": {},
   "outputs": [],
   "source": [
    "review = df['review'][0:4000]\n",
    "rating = df['rating'][0:4000]"
   ]
  },
  {
   "cell_type": "markdown",
   "id": "57e28f30",
   "metadata": {},
   "source": [
    "taking sample rows from the dataframe"
   ]
  },
  {
   "cell_type": "code",
   "execution_count": 45,
   "id": "0051dc63",
   "metadata": {},
   "outputs": [
    {
     "data": {
      "text/html": [
       "<div>\n",
       "<style scoped>\n",
       "    .dataframe tbody tr th:only-of-type {\n",
       "        vertical-align: middle;\n",
       "    }\n",
       "\n",
       "    .dataframe tbody tr th {\n",
       "        vertical-align: top;\n",
       "    }\n",
       "\n",
       "    .dataframe thead th {\n",
       "        text-align: right;\n",
       "    }\n",
       "</style>\n",
       "<table border=\"1\" class=\"dataframe\">\n",
       "  <thead>\n",
       "    <tr style=\"text-align: right;\">\n",
       "      <th></th>\n",
       "      <th>review</th>\n",
       "      <th>rating</th>\n",
       "    </tr>\n",
       "  </thead>\n",
       "  <tbody>\n",
       "    <tr>\n",
       "      <th>0</th>\n",
       "      <td>Did not meet expectations:\\nTakes significant ...</td>\n",
       "      <td>3</td>\n",
       "    </tr>\n",
       "    <tr>\n",
       "      <th>1</th>\n",
       "      <td>This laptop is great in terms of how light wei...</td>\n",
       "      <td>1</td>\n",
       "    </tr>\n",
       "    <tr>\n",
       "      <th>2</th>\n",
       "      <td>First day of using this laptop\\nIt’s damn fast...</td>\n",
       "      <td>5</td>\n",
       "    </tr>\n",
       "    <tr>\n",
       "      <th>3</th>\n",
       "      <td>Play Video\\n Pros\\n-----\\n- Very light weight\\...</td>\n",
       "      <td>2</td>\n",
       "    </tr>\n",
       "    <tr>\n",
       "      <th>4</th>\n",
       "      <td>Play Video\\n This really serves the purpose. I...</td>\n",
       "      <td>5</td>\n",
       "    </tr>\n",
       "    <tr>\n",
       "      <th>...</th>\n",
       "      <td>...</td>\n",
       "      <td>...</td>\n",
       "    </tr>\n",
       "    <tr>\n",
       "      <th>4042</th>\n",
       "      <td>After using an Boult earphone and experienced ...</td>\n",
       "      <td>1</td>\n",
       "    </tr>\n",
       "    <tr>\n",
       "      <th>4043</th>\n",
       "      <td>It's a superior quality headphones.. awesome b...</td>\n",
       "      <td>3</td>\n",
       "    </tr>\n",
       "    <tr>\n",
       "      <th>4044</th>\n",
       "      <td>Hi Team,\\n\\nRecently I purchased product from ...</td>\n",
       "      <td>1</td>\n",
       "    </tr>\n",
       "    <tr>\n",
       "      <th>4045</th>\n",
       "      <td>In ordered this product as I need to take call...</td>\n",
       "      <td>3</td>\n",
       "    </tr>\n",
       "    <tr>\n",
       "      <th>4046</th>\n",
       "      <td>lets get directly into the Pros &amp; Cons :-\\n\\ns...</td>\n",
       "      <td>4</td>\n",
       "    </tr>\n",
       "  </tbody>\n",
       "</table>\n",
       "<p>4000 rows × 2 columns</p>\n",
       "</div>"
      ],
      "text/plain": [
       "                                                 review  rating\n",
       "0     Did not meet expectations:\\nTakes significant ...       3\n",
       "1     This laptop is great in terms of how light wei...       1\n",
       "2     First day of using this laptop\\nIt’s damn fast...       5\n",
       "3     Play Video\\n Pros\\n-----\\n- Very light weight\\...       2\n",
       "4     Play Video\\n This really serves the purpose. I...       5\n",
       "...                                                 ...     ...\n",
       "4042  After using an Boult earphone and experienced ...       1\n",
       "4043  It's a superior quality headphones.. awesome b...       3\n",
       "4044  Hi Team,\\n\\nRecently I purchased product from ...       1\n",
       "4045  In ordered this product as I need to take call...       3\n",
       "4046  lets get directly into the Pros & Cons :-\\n\\ns...       4\n",
       "\n",
       "[4000 rows x 2 columns]"
      ]
     },
     "execution_count": 45,
     "metadata": {},
     "output_type": "execute_result"
    }
   ],
   "source": [
    "df = pd.DataFrame({'review':review,\n",
    "                  'rating':rating})\n",
    "df"
   ]
  },
  {
   "cell_type": "markdown",
   "id": "9e517d8d",
   "metadata": {},
   "source": [
    "created new dataframe with sliced list"
   ]
  },
  {
   "cell_type": "code",
   "execution_count": 46,
   "id": "cb63b3fa",
   "metadata": {},
   "outputs": [
    {
     "data": {
      "image/png": "[encoded data removed]",
      "text/plain": [
       "<Figure size 432x288 with 1 Axes>"
      ]
     },
     "metadata": {
      "needs_background": "light"
     },
     "output_type": "display_data"
    }
   ],
   "source": [
    "sns.countplot(df['rating'])\n",
    "plt.show()"
   ]
  },
  {
   "cell_type": "markdown",
   "id": "0e66de79",
   "metadata": {},
   "source": [
    "plotting the rating in a graph"
   ]
  },
  {
   "cell_type": "code",
   "execution_count": 47,
   "id": "357d7ec8",
   "metadata": {},
   "outputs": [
    {
     "data": {
      "text/html": [
       "<div>\n",
       "<style scoped>\n",
       "    .dataframe tbody tr th:only-of-type {\n",
       "        vertical-align: middle;\n",
       "    }\n",
       "\n",
       "    .dataframe tbody tr th {\n",
       "        vertical-align: top;\n",
       "    }\n",
       "\n",
       "    .dataframe thead th {\n",
       "        text-align: right;\n",
       "    }\n",
       "</style>\n",
       "<table border=\"1\" class=\"dataframe\">\n",
       "  <thead>\n",
       "    <tr style=\"text-align: right;\">\n",
       "      <th></th>\n",
       "      <th>review</th>\n",
       "      <th>rating</th>\n",
       "    </tr>\n",
       "  </thead>\n",
       "  <tbody>\n",
       "    <tr>\n",
       "      <th>0</th>\n",
       "      <td>Did not meet expectations\\nTakes significant t...</td>\n",
       "      <td>3</td>\n",
       "    </tr>\n",
       "    <tr>\n",
       "      <th>1</th>\n",
       "      <td>This laptop is great in terms of how light wei...</td>\n",
       "      <td>1</td>\n",
       "    </tr>\n",
       "  </tbody>\n",
       "</table>\n",
       "</div>"
      ],
      "text/plain": [
       "                                              review  rating\n",
       "0  Did not meet expectations\\nTakes significant t...       3\n",
       "1  This laptop is great in terms of how light wei...       1"
      ]
     },
     "execution_count": 47,
     "metadata": {},
     "output_type": "execute_result"
    }
   ],
   "source": [
    "def punc_clean(text):\n",
    "    import string as st\n",
    "    a=[w for w in text if w not in st.punctuation]\n",
    "    return ''.join(a)\n",
    "df['review'] = df['review'].apply(punc_clean)\n",
    "df.head(2)"
   ]
  },
  {
   "cell_type": "markdown",
   "id": "dc71ded4",
   "metadata": {},
   "source": [
    "removed punctuation from the dataframe"
   ]
  },
  {
   "cell_type": "code",
   "execution_count": 49,
   "id": "ecd4d62f",
   "metadata": {},
   "outputs": [],
   "source": [
    "def remove_stopword(text):\n",
    "    stopword=nltk.corpus.stopwords.words('english')\n",
    "    stopword.remove('not')\n",
    "    a=[w for w in nltk.word_tokenize(text) if w not in stopword]\n",
    "    return ' '.join(a)\n",
    "df['review'] = df['review'].apply(remove_stopword)"
   ]
  },
  {
   "cell_type": "markdown",
   "id": "ef4ac6f4",
   "metadata": {},
   "source": [
    "removed stop words from the dataframe"
   ]
  },
  {
   "cell_type": "code",
   "execution_count": 50,
   "id": "6d5e6a3c",
   "metadata": {},
   "outputs": [],
   "source": [
    "from sklearn.feature_extraction.text import TfidfVectorizer\n",
    "vectr = TfidfVectorizer(ngram_range=(1,3),min_df=1)\n",
    "vectr.fit(df['review'])\n",
    "vect_X = vectr.transform(df['review'])"
   ]
  },
  {
   "cell_type": "markdown",
   "id": "f623af70",
   "metadata": {},
   "source": [
    "transformed the review column"
   ]
  },
  {
   "cell_type": "code",
   "execution_count": 51,
   "id": "fcb0db84",
   "metadata": {},
   "outputs": [],
   "source": [
    "x = vect_X\n",
    "y = df['rating']"
   ]
  },
  {
   "cell_type": "markdown",
   "id": "7888e64b",
   "metadata": {},
   "source": [
    "splited the data into x and y"
   ]
  },
  {
   "cell_type": "code",
   "execution_count": 52,
   "id": "ae4cea92",
   "metadata": {},
   "outputs": [],
   "source": [
    "from sklearn.model_selection import train_test_split\n",
    "xtrain,xtest,ytrain,ytest = train_test_split(x,y,test_size = 0.2,random_state = 0)"
   ]
  },
  {
   "cell_type": "markdown",
   "id": "4e4e2b11",
   "metadata": {},
   "source": [
    "splitted the data into train_test_split"
   ]
  },
  {
   "cell_type": "code",
   "execution_count": 53,
   "id": "e62d4070",
   "metadata": {},
   "outputs": [],
   "source": [
    "# imported machine learning libraries\n",
    "from sklearn.linear_model import LogisticRegression\n",
    "from sklearn.ensemble import RandomForestClassifier\n",
    "from sklearn.tree import DecisionTreeClassifier\n",
    "from sklearn.neighbors import KNeighborsClassifier\n",
    "from sklearn.metrics import accuracy_score,confusion_matrix,classification_report\n",
    "from sklearn.model_selection import GridSearchCV"
   ]
  },
  {
   "cell_type": "code",
   "execution_count": 54,
   "id": "2ff59c1e",
   "metadata": {},
   "outputs": [
    {
     "name": "stdout",
     "output_type": "stream",
     "text": [
      "Training score 0.8709375\n",
      "Testing score 0.74875\n",
      "Accuracy score of LogisticRegression() is 0.74875\n",
      "[[220   0   0   1  25]\n",
      " [  7   3   0   0  25]\n",
      " [  9   0   9   1  37]\n",
      " [  4   0   0  42  79]\n",
      " [ 10   0   0   3 325]]\n",
      "              precision    recall  f1-score   support\n",
      "\n",
      "           1       0.88      0.89      0.89       246\n",
      "           2       1.00      0.09      0.16        35\n",
      "           3       1.00      0.16      0.28        56\n",
      "           4       0.89      0.34      0.49       125\n",
      "           5       0.66      0.96      0.78       338\n",
      "\n",
      "    accuracy                           0.75       800\n",
      "   macro avg       0.89      0.49      0.52       800\n",
      "weighted avg       0.80      0.75      0.71       800\n",
      "\n",
      "Training score 0.98625\n",
      "Testing score 0.77\n",
      "Accuracy score of RandomForestClassifier() is 0.77\n",
      "[[215   0   0   3  28]\n",
      " [  5  11   0   0  19]\n",
      " [  9   1  22   2  22]\n",
      " [  3   0   0  49  73]\n",
      " [ 11   0   2   6 319]]\n",
      "              precision    recall  f1-score   support\n",
      "\n",
      "           1       0.88      0.87      0.88       246\n",
      "           2       0.92      0.31      0.47        35\n",
      "           3       0.92      0.39      0.55        56\n",
      "           4       0.82      0.39      0.53       125\n",
      "           5       0.69      0.94      0.80       338\n",
      "\n",
      "    accuracy                           0.77       800\n",
      "   macro avg       0.85      0.58      0.65       800\n",
      "weighted avg       0.80      0.77      0.75       800\n",
      "\n",
      "Training score 0.98625\n",
      "Testing score 0.70875\n",
      "Accuracy score of DecisionTreeClassifier() is 0.70875\n",
      "[[209   3   3  11  20]\n",
      " [ 10  13   2   5   5]\n",
      " [  9   2  23   9  13]\n",
      " [ 12   2   3  59  49]\n",
      " [ 15  10   6  44 263]]\n",
      "              precision    recall  f1-score   support\n",
      "\n",
      "           1       0.82      0.85      0.83       246\n",
      "           2       0.43      0.37      0.40        35\n",
      "           3       0.62      0.41      0.49        56\n",
      "           4       0.46      0.47      0.47       125\n",
      "           5       0.75      0.78      0.76       338\n",
      "\n",
      "    accuracy                           0.71       800\n",
      "   macro avg       0.62      0.58      0.59       800\n",
      "weighted avg       0.70      0.71      0.70       800\n",
      "\n",
      "Training score 0.79625\n",
      "Testing score 0.66125\n",
      "Accuracy score of KNeighborsClassifier() is 0.66125\n",
      "[[188   6   4   7  41]\n",
      " [  6  10   0   2  17]\n",
      " [  7   5  15  12  17]\n",
      " [  8   5   1  51  60]\n",
      " [ 16  19   7  31 265]]\n",
      "              precision    recall  f1-score   support\n",
      "\n",
      "           1       0.84      0.76      0.80       246\n",
      "           2       0.22      0.29      0.25        35\n",
      "           3       0.56      0.27      0.36        56\n",
      "           4       0.50      0.41      0.45       125\n",
      "           5       0.66      0.78      0.72       338\n",
      "\n",
      "    accuracy                           0.66       800\n",
      "   macro avg       0.55      0.50      0.52       800\n",
      "weighted avg       0.66      0.66      0.66       800\n",
      "\n"
     ]
    }
   ],
   "source": [
    "lr = LogisticRegression()\n",
    "rfc = RandomForestClassifier()\n",
    "dt = DecisionTreeClassifier()\n",
    "knn = KNeighborsClassifier()\n",
    "model = [lr,rfc,dt,knn]\n",
    "\n",
    "for i in model:\n",
    "    i.fit(xtrain,ytrain)\n",
    "    pred = i.predict(xtest)\n",
    "    print('Training score',i.score(xtrain,ytrain))\n",
    "    print('Testing score',i.score(xtest,ytest))\n",
    "    print('Accuracy score of',i,'is',accuracy_score(ytest,pred))\n",
    "    print(confusion_matrix(ytest,pred))\n",
    "    print(classification_report(ytest,pred))"
   ]
  },
  {
   "cell_type": "markdown",
   "id": "1d7fa90f",
   "metadata": {},
   "source": [
    "fit the xtrain and ytrain into various machine learning algorithms."
   ]
  },
  {
   "cell_type": "code",
   "execution_count": 55,
   "id": "94398415",
   "metadata": {},
   "outputs": [
    {
     "name": "stdout",
     "output_type": "stream",
     "text": [
      "cv score of LogisticRegression() is 0.7204999999999999\n",
      "cv score of RandomForestClassifier() is 0.74475\n",
      "cv score of DecisionTreeClassifier() is 0.69475\n",
      "cv score of KNeighborsClassifier() is 0.625\n"
     ]
    }
   ],
   "source": [
    "from sklearn.model_selection import cross_val_score\n",
    "for i in model:\n",
    "    score = cross_val_score(i,x,y,cv =10)\n",
    "    print('cv score of',i,'is',score.mean())"
   ]
  },
  {
   "cell_type": "markdown",
   "id": "91eb1908",
   "metadata": {},
   "source": [
    "validating the testing score,seems like DecisionTree classifier working best, so we move ahead with DecisionTree."
   ]
  },
  {
   "cell_type": "markdown",
   "id": "09f01498",
   "metadata": {},
   "source": [
    "## Hyperparameter tuning"
   ]
  },
  {
   "cell_type": "code",
   "execution_count": 68,
   "id": "34ec4dcb",
   "metadata": {},
   "outputs": [
    {
     "name": "stdout",
     "output_type": "stream",
     "text": [
      "Fitting 5 folds for each of 648 candidates, totalling 3240 fits\n"
     ]
    },
    {
     "data": {
      "text/plain": [
       "{'ccp_alpha': 0.001,\n",
       " 'criterion': 'gini',\n",
       " 'max_depth': 25,\n",
       " 'min_samples_leaf': 5}"
      ]
     },
     "execution_count": 68,
     "metadata": {},
     "output_type": "execute_result"
    }
   ],
   "source": [
    "param_grid = {'max_depth': [1,3,6,10,15,17,20,25,30],\n",
    "              'criterion' : [\"gini\", \"entropy\"],\n",
    "             'min_samples_leaf': [5,8,10,17,20,30,50,70,100],\n",
    "             'ccp_alpha': [0.1, .01, .001,0.0001]}\n",
    "dt = DecisionTreeClassifier()\n",
    "\n",
    "# Instantiate the grid search model\n",
    "grid_search = GridSearchCV(estimator=dt, \n",
    "                           param_grid=param_grid, \n",
    "                           n_jobs=-1, verbose=1, scoring = \"accuracy\")\n",
    "grid_search.fit(xtrain,ytrain)\n",
    "grid_search.best_params_"
   ]
  },
  {
   "cell_type": "code",
   "execution_count": 69,
   "id": "f5060adf",
   "metadata": {},
   "outputs": [
    {
     "name": "stdout",
     "output_type": "stream",
     "text": [
      "Training score 0.7615625\n",
      "Testing score 0.64125\n",
      "[[184   6   2   5  49]\n",
      " [ 11   2   2   8  12]\n",
      " [ 10   1  14   7  24]\n",
      " [ 14   0   3  39  69]\n",
      " [ 18   1   5  40 274]]\n",
      "              precision    recall  f1-score   support\n",
      "\n",
      "           1       0.78      0.75      0.76       246\n",
      "           2       0.20      0.06      0.09        35\n",
      "           3       0.54      0.25      0.34        56\n",
      "           4       0.39      0.31      0.35       125\n",
      "           5       0.64      0.81      0.72       338\n",
      "\n",
      "    accuracy                           0.64       800\n",
      "   macro avg       0.51      0.44      0.45       800\n",
      "weighted avg       0.62      0.64      0.62       800\n",
      "\n"
     ]
    }
   ],
   "source": [
    "dt2 = DecisionTreeClassifier(ccp_alpha = 0.001,\n",
    "                              criterion = 'gini',\n",
    "                              max_depth = 25,\n",
    "                              min_samples_leaf = 5)\n",
    "dt2.fit(xtrain,ytrain)\n",
    "print('Training score',dt2.score(xtrain,ytrain))\n",
    "print('Testing score',dt2.score(xtest,ytest))\n",
    "pred = dt2.predict(xtest)\n",
    "print(confusion_matrix(ytest,pred))\n",
    "print(classification_report(ytest,pred))"
   ]
  },
  {
   "cell_type": "code",
   "execution_count": 70,
   "id": "04d99a6e",
   "metadata": {},
   "outputs": [
    {
     "data": {
      "text/plain": [
       "Text(0, 0.5, 'Predicted')"
      ]
     },
     "execution_count": 70,
     "metadata": {},
     "output_type": "execute_result"
    },
    {
     "data": {
      "image/png": "[encoded data removed]",
      "text/plain": [
       "<Figure size 432x288 with 1 Axes>"
      ]
     },
     "metadata": {
      "needs_background": "light"
     },
     "output_type": "display_data"
    }
   ],
   "source": [
    "# checking out the differnce between actual and predicted values\n",
    "plt.scatter(x = ytest,y = pred)\n",
    "plt.xlabel('Actual')\n",
    "plt.ylabel('Predicted')"
   ]
  },
  {
   "cell_type": "markdown",
   "id": "f3aa6fdb",
   "metadata": {},
   "source": [
    "## Now we dump the final output"
   ]
  },
  {
   "cell_type": "code",
   "execution_count": null,
   "id": "f85e3c2e",
   "metadata": {},
   "outputs": [],
   "source": [
    "import pickle\n",
    "filename = 'rating prediction.pkl'\n",
    "pickle.dump(dt2,open(filename,'wb'))"
   ]
  }
 ],
 "metadata": {
  "kernelspec": {
   "display_name": "Python 3",
   "language": "python",
   "name": "python3"
  },
  "language_info": {
   "codemirror_mode": {
    "name": "ipython",
    "version": 3
   },
   "file_extension": ".py",
   "mimetype": "text/x-python",
   "name": "python",
   "nbconvert_exporter": "python",
   "pygments_lexer": "ipython3",
   "version": "3.8.8"
  }
 },
 "nbformat": 4,
 "nbformat_minor": 5
}
